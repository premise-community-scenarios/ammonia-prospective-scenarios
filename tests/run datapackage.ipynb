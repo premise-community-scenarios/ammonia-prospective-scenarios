{
 "cells": [
  {
   "cell_type": "code",
   "execution_count": 1,
   "id": "562edbcd-9a35-413b-857c-e10a43ae8a86",
   "metadata": {},
   "outputs": [],
   "source": [
    "import brightway2 as bw\n",
    "from premise import NewDatabase\n",
    "from datapackage import Package\n"
   ]
  },
  {
   "cell_type": "code",
   "execution_count": 2,
   "id": "6a39a11a-373d-4c89-ad43-29f66fcd0f05",
   "metadata": {},
   "outputs": [
    {
     "name": "stdout",
     "output_type": "stream",
     "text": [
      "premise requires the name of your biosphere database.\n",
      "Please enter the name of your biosphere database as it appears in your project.\n",
      "Databases dictionary with 24 objects, including:\n",
      "\tOWE_Turbines\n",
      "\tSwiss_trying with update external for SSP2-PkBudg1150 2030,2050\n",
      "\tecoinvent-3.10-biosphere\n",
      "\tecoinvent-3.10-cutoff\n",
      "\tecoinvent-3.10-cutoff - remind - SSP2-PkBudg1150\n",
      "\tei_cutoff_3.10_remind_SSP2-NPi_2020 2024-10-30\n",
      "\tei_cutoff_3.10_remind_SSP2-PkBudg1150_2050_SPS1 2024-11-01\n",
      "\tei_cutoff_3.10_remind_SSP2-PkBudg1150_2050_SPS2 2024-11-01\n",
      "\tei_cutoff_3.10_remind_SSP2-PkBudg1150_2050_SPS4 2024-11-01\n",
      "\tei_cutoff_3.10_tiam-ucl_SSP2-Base_2050 2024-10-12\n",
      "Use `list(this object)` to get the complete list.\n"
     ]
    },
    {
     "name": "stdin",
     "output_type": "stream",
     "text": [
      "Name of the biosphere database:  ecoinvent-3.10-biosphere\n"
     ]
    },
    {
     "name": "stdout",
     "output_type": "stream",
     "text": [
      "premise v.(2, 2, 1)\n",
      "+------------------------------------------------------------------+\n",
      "| Warning                                                          |\n",
      "+------------------------------------------------------------------+\n",
      "| Because some of the scenarios can yield LCI databases            |\n",
      "| containing net negative emission technologies (NET),             |\n",
      "| it is advised to account for biogenic CO2 flows when calculating |\n",
      "| Global Warming potential indicators.                             |\n",
      "| `premise_gwp` provides characterization factors for such flows.  |\n",
      "| It also provides factors for hydrogen emissions to air.          |\n",
      "|                                                                  |\n",
      "| Within your bw2 project:                                         |\n",
      "| from premise_gwp import add_premise_gwp                          |\n",
      "| add_premise_gwp()                                                |\n",
      "+------------------------------------------------------------------+\n",
      "+--------------------------------+----------------------------------+\n",
      "| Utils functions                | Description                      |\n",
      "+--------------------------------+----------------------------------+\n",
      "| clear_cache()                  | Clears the cache folder. Useful  |\n",
      "|                                | when updating `premise`or        |\n",
      "|                                | encountering issues with         |\n",
      "|                                | inventories.                     |\n",
      "+--------------------------------+----------------------------------+\n",
      "| get_regions_definition(model)  | Retrieves the list of countries  |\n",
      "|                                | for each region of the model.    |\n",
      "+--------------------------------+----------------------------------+\n",
      "| ndb.NewDatabase(...)           | Generates a summary of the most  |\n",
      "| ndb.generate_scenario_report() | important scenarios' variables.  |\n",
      "+--------------------------------+----------------------------------+\n",
      "Keep uncertainty data?\n",
      "NewDatabase(..., keep_source_db_uncertainty=True), keep_imports_uncertainty=True)\n",
      "\n",
      "Hide these messages?\n",
      "NewDatabase(..., quiet=True)\n",
      "- Extracting source database\n",
      "- Extracting inventories\n",
      "- Fetching IAM data\n",
      "Done!\n"
     ]
    },
    {
     "name": "stderr",
     "output_type": "stream",
     "text": [
      "Processing scenarios for sector 'external':   0%| | 0/2 [00:00<?, ?it/"
     ]
    },
    {
     "name": "stdout",
     "output_type": "stream",
     "text": [
      "Extracted 1 worksheets in 0.00 seconds\n",
      "The following datasets to import already exist in the source database. They will not be imported\n",
      "+--------------------------------+----------------------------+----------+---------------------+\n",
      "|              Name              |     Reference product      | Location |         File        |\n",
      "+--------------------------------+----------------------------+----------+---------------------+\n",
      "| ammonia production, hydrogen f | ammonia, anhydrous, liquid |   GLO    | lci-ammonia_310.csv |\n",
      "| ammonia production, hydrogen f | ammonia, anhydrous, liquid |   GLO    | lci-ammonia_310.csv |\n",
      "| ammonia production, hydrogen f | ammonia, anhydrous, liquid |   GLO    | lci-ammonia_310.csv |\n",
      "| ammonia production, partial ox | ammonia, anhydrous, liquid |   GLO    | lci-ammonia_310.csv |\n",
      "| ammonia production, steam refo | ammonia, anhydrous, liquid |   GLO    | lci-ammonia_310.csv |\n",
      "+--------------------------------+----------------------------+----------+---------------------+\n"
     ]
    },
    {
     "name": "stderr",
     "output_type": "stream",
     "text": [
      "Processing scenarios for sector 'external':  50%|▌| 1/2 [00:15<00:15, "
     ]
    },
    {
     "name": "stdout",
     "output_type": "stream",
     "text": [
      "Extracted 1 worksheets in 0.00 seconds\n",
      "The following datasets to import already exist in the source database. They will not be imported\n",
      "+--------------------------------+----------------------------+----------+---------------------+\n",
      "|              Name              |     Reference product      | Location |         File        |\n",
      "+--------------------------------+----------------------------+----------+---------------------+\n",
      "| ammonia production, hydrogen f | ammonia, anhydrous, liquid |   GLO    | lci-ammonia_310.csv |\n",
      "| ammonia production, hydrogen f | ammonia, anhydrous, liquid |   GLO    | lci-ammonia_310.csv |\n",
      "| ammonia production, hydrogen f | ammonia, anhydrous, liquid |   GLO    | lci-ammonia_310.csv |\n",
      "| ammonia production, partial ox | ammonia, anhydrous, liquid |   GLO    | lci-ammonia_310.csv |\n",
      "| ammonia production, steam refo | ammonia, anhydrous, liquid |   GLO    | lci-ammonia_310.csv |\n",
      "+--------------------------------+----------------------------+----------+---------------------+\n"
     ]
    },
    {
     "name": "stderr",
     "output_type": "stream",
     "text": [
      "Processing scenarios for sector 'external': 100%|█| 2/2 [00:34<00:00, "
     ]
    },
    {
     "name": "stdout",
     "output_type": "stream",
     "text": [
      "Done!\n",
      "\n"
     ]
    },
    {
     "name": "stderr",
     "output_type": "stream",
     "text": [
      "\n"
     ]
    }
   ],
   "source": [
    "fp = r\"../datapackage.json\"\n",
    "ammonia = Package(fp)\n",
    "\n",
    "bw.projects.set_current(\"ecoinvent-3.10-cutoff\")\n",
    "\n",
    "ndb = NewDatabase(\n",
    "    scenarios = [\n",
    "        {\"model\":\"image\", \"pathway\":\"SSP2-Base\", \"year\":2050, \"external scenarios\": [{\"scenario\": \"Business As Usual - image\", \"data\": ammonia}]},\n",
    "        {\"model\":\"image\", \"pathway\":\"SSP2-RCP26\", \"year\":2030, \"external scenarios\": [{\"scenario\": \"Sustainable development - image\", \"data\": ammonia}]},\n",
    "    ],        \n",
    "    source_db=\"ecoinvent-3.10-cutoff\",\n",
    "    source_version=\"3.10\",\n",
    "    key='tUePmX_S5B8ieZkkM7WUU2CnO8SmShwmAeWK9x2rTFo=',\n",
    ")\n",
    "    \n",
    "ndb.update(\"external\")"
   ]
  },
  {
   "cell_type": "code",
   "execution_count": 3,
   "id": "28eb31a0-ad8b-477a-9ef0-49400d319595",
   "metadata": {},
   "outputs": [
    {
     "name": "stdout",
     "output_type": "stream",
     "text": [
      "Running all checks...\n",
      "Minor anomalies found: check the change report.\n",
      "Running all checks...\n",
      "Minor anomalies found: check the change report.\n",
      "Building superstructure database...\n",
      "Dropped 20844 duplicate(s).\n",
      "Scenario difference file exported to /Users/romain/GitHub/ammonia-prospective-scenarios/tests/export/scenario diff files!\n",
      "Running all checks...\n",
      "Minor anomalies found: check the change report.\n"
     ]
    },
    {
     "name": "stderr",
     "output_type": "stream",
     "text": [
      "Writing activities to SQLite3 database:\n",
      "0% [##############################] 100% | ETA: 00:00:00\n",
      "Total time elapsed: 00:00:20\n"
     ]
    },
    {
     "name": "stdout",
     "output_type": "stream",
     "text": [
      "Title: Writing activities to SQLite3 database:\n",
      "  Started: 11/10/2024 14:55:24\n",
      "  Finished: 11/10/2024 14:55:44\n",
      "  Total time elapsed: 00:00:20\n",
      "  CPU %: 77.00\n",
      "  Memory %: 10.39\n",
      "Created database: ammonia test\n",
      "Generate scenario report.\n",
      "Report saved under /Users/romain/GitHub/ammonia-prospective-scenarios/tests/export/scenario_report.\n",
      "Generate change report.\n",
      "Report saved under /Users/romain/GitHub/ammonia-prospective-scenarios/tests.\n"
     ]
    }
   ],
   "source": [
    "ndb.write_superstructure_db_to_brightway(\"ammonia test\")"
   ]
  },
  {
   "cell_type": "code",
   "execution_count": null,
   "id": "3c35163e-57ee-4f59-9234-a113b91ec1f1",
   "metadata": {},
   "outputs": [],
   "source": []
  }
 ],
 "metadata": {
  "kernelspec": {
   "display_name": "Python 3 (ipykernel)",
   "language": "python",
   "name": "python3"
  },
  "language_info": {
   "codemirror_mode": {
    "name": "ipython",
    "version": 3
   },
   "file_extension": ".py",
   "mimetype": "text/x-python",
   "name": "python",
   "nbconvert_exporter": "python",
   "pygments_lexer": "ipython3",
   "version": "3.11.8"
  }
 },
 "nbformat": 4,
 "nbformat_minor": 5
}
